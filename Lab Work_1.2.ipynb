{
 "cells": [
  {
   "cell_type": "markdown",
   "id": "2add6572",
   "metadata": {},
   "source": [
    "Q.1\n",
    "- Write a markdown cell explaining:\n",
    "Descriptive Statistics\n",
    "Inferential Statistics\n",
    "- Create a visual mind map or list to differentiate between the two types."
   ]
  },
  {
   "cell_type": "markdown",
   "id": "5d157e12",
   "metadata": {},
   "source": [
    "Ans. Descriptive: Summarize data(e.g., mean, meadian, mode, charts)\n",
    "    \n",
    "    Inferential: Makes pridictions or generalizations about a population using sample data.\n",
    "\n",
    "| Feature          | Structured Data          | Unstructured Data               |\n",
    "| ---------------- | ------------------------ | ------------------------------- |\n",
    "| Format           | Tabular (rows & columns) | Free-form (text, image, audio)  |\n",
    "| Storage          | Relational DBs (SQL)     | Data lakes, NoSQL, file systems |\n",
    "| Ease of analysis | Easy                     | Complex, needs preprocessing    |\n",
    "| Examples         | Sales data, HR records   | Tweets, emails, medical images  |\n",
    "| Tools            | SQL, Excel, Pandas       | NLP, CV, ML, NoSQL, Hadoop      |\n"
   ]
  },
  {
   "cell_type": "code",
   "execution_count": 2,
   "id": "ee72ab0d",
   "metadata": {},
   "outputs": [
    {
     "name": "stdout",
     "output_type": "stream",
     "text": [
      "   A  B   C\n",
      "0  1  5  10\n",
      "1  2  6  11\n",
      "2  3  7  12\n",
      "3  4  8  13\n",
      "4  5  9  14\n"
     ]
    },
    {
     "data": {
      "text/html": [
       "<div>\n",
       "<style scoped>\n",
       "    .dataframe tbody tr th:only-of-type {\n",
       "        vertical-align: middle;\n",
       "    }\n",
       "\n",
       "    .dataframe tbody tr th {\n",
       "        vertical-align: top;\n",
       "    }\n",
       "\n",
       "    .dataframe thead th {\n",
       "        text-align: right;\n",
       "    }\n",
       "</style>\n",
       "<table border=\"1\" class=\"dataframe\">\n",
       "  <thead>\n",
       "    <tr style=\"text-align: right;\">\n",
       "      <th></th>\n",
       "      <th>A</th>\n",
       "      <th>B</th>\n",
       "      <th>C</th>\n",
       "    </tr>\n",
       "  </thead>\n",
       "  <tbody>\n",
       "    <tr>\n",
       "      <th>count</th>\n",
       "      <td>5.000000</td>\n",
       "      <td>5.000000</td>\n",
       "      <td>5.000000</td>\n",
       "    </tr>\n",
       "    <tr>\n",
       "      <th>mean</th>\n",
       "      <td>3.000000</td>\n",
       "      <td>7.000000</td>\n",
       "      <td>12.000000</td>\n",
       "    </tr>\n",
       "    <tr>\n",
       "      <th>std</th>\n",
       "      <td>1.581139</td>\n",
       "      <td>1.581139</td>\n",
       "      <td>1.581139</td>\n",
       "    </tr>\n",
       "    <tr>\n",
       "      <th>min</th>\n",
       "      <td>1.000000</td>\n",
       "      <td>5.000000</td>\n",
       "      <td>10.000000</td>\n",
       "    </tr>\n",
       "    <tr>\n",
       "      <th>25%</th>\n",
       "      <td>2.000000</td>\n",
       "      <td>6.000000</td>\n",
       "      <td>11.000000</td>\n",
       "    </tr>\n",
       "    <tr>\n",
       "      <th>50%</th>\n",
       "      <td>3.000000</td>\n",
       "      <td>7.000000</td>\n",
       "      <td>12.000000</td>\n",
       "    </tr>\n",
       "    <tr>\n",
       "      <th>75%</th>\n",
       "      <td>4.000000</td>\n",
       "      <td>8.000000</td>\n",
       "      <td>13.000000</td>\n",
       "    </tr>\n",
       "    <tr>\n",
       "      <th>max</th>\n",
       "      <td>5.000000</td>\n",
       "      <td>9.000000</td>\n",
       "      <td>14.000000</td>\n",
       "    </tr>\n",
       "  </tbody>\n",
       "</table>\n",
       "</div>"
      ],
      "text/plain": [
       "              A         B          C\n",
       "count  5.000000  5.000000   5.000000\n",
       "mean   3.000000  7.000000  12.000000\n",
       "std    1.581139  1.581139   1.581139\n",
       "min    1.000000  5.000000  10.000000\n",
       "25%    2.000000  6.000000  11.000000\n",
       "50%    3.000000  7.000000  12.000000\n",
       "75%    4.000000  8.000000  13.000000\n",
       "max    5.000000  9.000000  14.000000"
      ]
     },
     "execution_count": 2,
     "metadata": {},
     "output_type": "execute_result"
    }
   ],
   "source": [
    "# Q.2\n",
    "# - Load a sample dataset (you can use pandas and create it or load from CSV).\n",
    "import pandas as pd\n",
    "import numpy as np\n",
    "data = {\n",
    "    'A': [1, 2, 3, 4, 5],\n",
    "    'B': [5, 6, 7, 8, 9],\n",
    "    'C': [10, 11, 12, 13, 14]\n",
    "}\n",
    "df = pd.DataFrame(data)\n",
    "print(df)\n",
    "\n",
    "# Use describe to get an overview.\n",
    "\n",
    "df.describe()\n",
    "\n",
    "# List the values returned and explain what each one means (e.g., count, mean, and std).\n",
    "# The count() is the number of non-null entries in each column.\n",
    "# The mean() is the average value of each column.\n",
    "# The std() is the standard deviation, which measures the amount of variation or dispersion of a set of values."
   ]
  },
  {
   "cell_type": "code",
   "execution_count": 3,
   "id": "516d243f",
   "metadata": {},
   "outputs": [
    {
     "name": "stdout",
     "output_type": "stream",
     "text": [
      "Mean using pandas: 3.0, Mean using numpy: 3.0\n",
      "Median using pandas: 3.0, Median using numpy: 3.0\n",
      "Mode using pandas: 1\n"
     ]
    },
    {
     "data": {
      "image/png": "[encoded data removed]",
      "text/plain": [
       "<Figure size 640x480 with 1 Axes>"
      ]
     },
     "metadata": {},
     "output_type": "display_data"
    }
   ],
   "source": [
    "# Q.3\n",
    "# Calculate the mean of a numeric column using:\n",
    "# df['column'].mean()\n",
    "# numpy.mean()\n",
    "\n",
    "mean_value = df['A'].mean()\n",
    "numpy_mean_value = np.mean(df['A'])\n",
    "print(f\"Mean using pandas: {mean_value}, Mean using numpy: {numpy_mean_value}\")\n",
    "\n",
    "# - Find the median using:\n",
    "# df['column'].median()\n",
    "# numpy.median()\n",
    "\n",
    "median_value = df['A'].median()\n",
    "numpy_median_value = np.median(df['A'])\n",
    "print(f\"Median using pandas: {median_value}, Median using numpy: {numpy_median_value}\")\n",
    "\n",
    "# - Find the mode using:\n",
    "# df['column'].mode()\n",
    "mode_value = df['A'].mode()[0]\n",
    "print(f\"Mode using pandas: {mode_value}\")\n",
    "# - Create a bar chart comparing Mean, Median, and Mode.\n",
    "\n",
    "import matplotlib.pyplot as plt\n",
    "mean = df['A'].mean()\n",
    "median = df['A'].median()\n",
    "mode = df['A'].mode()[0]\n",
    "values = [mean, median, mode]\n",
    "labels = ['Mean', 'Median', 'Mode']\n",
    "plt.bar(labels, values, color=['blue', 'orange', 'green'])\n",
    "plt.title('Comparison of Mean, Median, and Mode')\n",
    "plt.xlabel('Statistics')\n",
    "plt.ylabel('Values')\n",
    "plt.show()"
   ]
  },
  {
   "cell_type": "code",
   "execution_count": 6,
   "id": "5ac258df",
   "metadata": {},
   "outputs": [
    {
     "name": "stdout",
     "output_type": "stream",
     "text": [
      "Range of column A: 4\n",
      "Variance using pandas: 2.5, Variance using numpy: 2.5\n",
      "Standard Deviation using pandas: 1.5811388300841898, Standard Deviation using numpy: 1.5811388300841898\n"
     ]
    },
    {
     "data": {
      "image/png": "[encoded data removed]",
      "text/plain": [
       "<Figure size 640x480 with 1 Axes>"
      ]
     },
     "metadata": {},
     "output_type": "display_data"
    }
   ],
   "source": [
    "# Q.4\n",
    "# - Calculate the range (max - min) of a numeric column.\n",
    "\n",
    "range_value = df['A'].max() - df['A'].min()\n",
    "print(f\"Range of column A: {range_value}\")\n",
    "\n",
    "# - Calculate variance using:\n",
    "# - df['column']. var()\n",
    "# - numpy.var() with ddof=1 for sample variance.\n",
    "\n",
    "variance_value = df['A'].var()\n",
    "numpy_variance_value = np.var(df['A'], ddof=1)\n",
    "print(f\"Variance using pandas: {variance_value}, Variance using numpy: {numpy_variance_value}\")\n",
    "\n",
    "# - Calculate standard deviation using:\n",
    "# - df['column'].std()\n",
    "# numpy.std()\n",
    "\n",
    "std_dev_value = df['A'].std()\n",
    "numpy_std_dev_value = np.std(df['A'], ddof=1)\n",
    "print(f\"Standard Deviation using pandas: {std_dev_value}, Standard Deviation using numpy: {numpy_std_dev_value}\")\n",
    "\n",
    "# Create a boxplot and interpret how dispersion appears visually.\n",
    "\n",
    "plt.boxplot(df['A'])\n",
    "plt.title('Boxplot of Column A')\n",
    "plt.ylabel('Values')\n",
    "plt.show()"
   ]
  }
 ],
 "metadata": {
  "kernelspec": {
   "display_name": "Python 3",
   "language": "python",
   "name": "python3"
  },
  "language_info": {
   "codemirror_mode": {
    "name": "ipython",
    "version": 3
   },
   "file_extension": ".py",
   "mimetype": "text/x-python",
   "name": "python",
   "nbconvert_exporter": "python",
   "pygments_lexer": "ipython3",
   "version": "3.13.2"
  }
 },
 "nbformat": 4,
 "nbformat_minor": 5
}
