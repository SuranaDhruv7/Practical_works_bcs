{
 "cells": [
  {
   "cell_type": "code",
   "execution_count": 10,
   "id": "e8d14ee5",
   "metadata": {},
   "outputs": [],
   "source": [
    "import pandas as pd\n",
    "import numpy as np\n",
    "import matplotlib.pyplot as plt\n",
    "import seaborn as sns\n",
    "import scipy.stats as stats\n",
    "from statsmodels.stats.weightstats import ztest"
   ]
  },
  {
   "cell_type": "code",
   "execution_count": 11,
   "id": "3bcf384a",
   "metadata": {},
   "outputs": [
    {
     "name": "stdout",
     "output_type": "stream",
     "text": [
      "Sample Exam Scores: [84 42 50 84 57 56 67 97 55 78 85 40 74 75 71 41 68 51 78 64 83 56 61 90\n",
      " 55 78 58 79 63 47 62 99 83 88 51 70 47 77 54 57 47 77 63 71 67 47 55 72\n",
      " 41 72]\n",
      "\n",
      "--------------------------------------------\n",
      "\n",
      "Sample Mean: 65.74\n",
      "Sample Standard Deviation: 15.30\n",
      "\n",
      "--------------------------------------------\n",
      "\n",
      "95% Confidence Interval: 61.39 to 70.09\n",
      "\n",
      "--------------------------------------------\n",
      "\n",
      "95% Confidence Interval for Large Sample: 69.47 to 72.48\n",
      "\n",
      "--------------------------------------------\n",
      "\n",
      "Comparison of Confidence Intervals:\n",
      "Original Sample (n=50): 61.39 to 70.09\n",
      "Large Sample (n=500): 69.47 to 72.48\n"
     ]
    }
   ],
   "source": [
    "# Q.1 - Create a random sample of 50 exam scores (between 40 and 100).\n",
    "\n",
    "exam_scores = np.random.randint(40, 101, size=50)\n",
    "print(\"Sample Exam Scores:\", exam_scores)\n",
    "print(\"\\n--------------------------------------------\\n\")\n",
    "\n",
    "# - Calculate the sample mean and standard deviation.\n",
    "\n",
    "sample_mean = np.mean(exam_scores)\n",
    "sample_std = np.std(exam_scores, ddof=1)  # Using ddof=1 for sample standard deviation\n",
    "print(f\"Sample Mean: {sample_mean:.2f}\")\n",
    "print(f\"Sample Standard Deviation: {sample_std:.2f}\")\n",
    "print(\"\\n--------------------------------------------\\n\")\n",
    "\n",
    "# - Use scipy.stats.t.interval() to compute the 95% confidence interval.\n",
    "\n",
    "confidence_level = 0.95\n",
    "degrees_freedom = len(exam_scores) - 1\n",
    "confidence_interval = stats.t.interval(confidence_level, degrees_freedom, loc=sample_mean, scale=sample_std/np.sqrt(len(exam_scores)))\n",
    "print(f\"95% Confidence Interval: {confidence_interval[0]:.2f} to {confidence_interval[1]:.2f}\")\n",
    "print(\"\\n--------------------------------------------\\n\")\n",
    "\n",
    "# - Increase the sample size to 500 and recalculate the confidence interval.\n",
    "\n",
    "large_sample_scores = np.random.randint(40, 101, size=500)\n",
    "large_sample_mean = np.mean(large_sample_scores)\n",
    "large_sample_std = np.std(large_sample_scores, ddof=1)\n",
    "large_sample_degrees_freedom = len(large_sample_scores) - 1\n",
    "large_sample_confidence_interval = stats.t.interval(confidence_level, large_sample_degrees_freedom, loc=large_sample_mean, scale=large_sample_std/np.sqrt(len(large_sample_scores)))\n",
    "print(f\"95% Confidence Interval for Large Sample: {large_sample_confidence_interval[0]:.2f} to {large_sample_confidence_interval[1]:.2f}\")\n",
    "print(\"\\n--------------------------------------------\\n\")\n",
    "\n",
    "# - Compare how the interval changes with a larger sample size.\n",
    "\n",
    "print(\"Comparison of Confidence Intervals:\")\n",
    "print(f\"Original Sample (n=50): {confidence_interval[0]:.2f} to {confidence_interval[1]:.2f}\")\n",
    "print(f\"Large Sample (n=500): {large_sample_confidence_interval[0]:.2f} to {large_sample_confidence_interval[1]:.2f}\")"
   ]
  },
  {
   "cell_type": "code",
   "execution_count": 15,
   "id": "4d0ffdfc",
   "metadata": {},
   "outputs": [
    {
     "name": "stdout",
     "output_type": "stream",
     "text": [
      "Z-statistic: -0.41\n",
      "P-value: 0.6797\n",
      "Fail to reject the null hypothesis: The sample mean is not significantly different from the population mean.\n"
     ]
    }
   ],
   "source": [
    "# Q.2\n",
    "# - Assume the population mean is 70 and the standard deviation is 10.\n",
    "\n",
    "population_mean = 70\n",
    "population_std = 10\n",
    "\n",
    "# - Generate a random sample of size 100.\n",
    "\n",
    "sample_size = 100\n",
    "sample_scores = np.random.normal(loc=population_mean, scale=population_std, size=sample_size)\n",
    "\n",
    "# - Use the z-test formula manually or with statsmodels.stats.weightstats.ztest() to check if the \n",
    "# sample mean is significantly different from the population mean.\n",
    "\n",
    "z_stat, p_value = ztest(sample_scores, value=population_mean)\n",
    "print(f\"Z-statistic: {z_stat:.2f}\")\n",
    "print(f\"P-value: {p_value:.4f}\")\n",
    "\n",
    "# - Interpret the z-stat and p-value.\n",
    "\n",
    "if p_value < 0.05:\n",
    "    print(\"Reject the null hypothesis: The sample mean is significantly different from the population mean.\")  \n",
    "else:\n",
    "    print(\"Fail to reject the null hypothesis: The sample mean is not significantly different from the population mean.\")"
   ]
  },
  {
   "cell_type": "code",
   "execution_count": 18,
   "id": "a3cd9f84",
   "metadata": {},
   "outputs": [
    {
     "name": "stdout",
     "output_type": "stream",
     "text": [
      "Sample Weights: [56 73 73 82 66 51 85 53 54 87 59 89 82 56 58 70 84 57 56 90 88 52 88 63\n",
      " 60 90 51 78 58 73]\n",
      "T-statistic: -0.23\n",
      "P-value: 0.8180\n",
      "Fail to reject the null hypothesis: The sample mean weight is not significantly different from the population mean weight.\n"
     ]
    }
   ],
   "source": [
    "# Q.3\n",
    "# - Create a sample of 30 weights of people (assume random values between 50-90 kg).\n",
    "weights = np.random.randint(50, 91, size=30)\n",
    "print(\"Sample Weights:\", weights)\n",
    "\n",
    "# - Assume the population mean is 70.\n",
    "\n",
    "population_mean_weight = 70\n",
    "\n",
    "# Use scipy.stats.ttest_1samp() to perform a one-sample t-test.\n",
    "\n",
    "t_stat, p_value_weight = stats.ttest_1samp(weights, population_mean_weight)\n",
    "print(f\"T-statistic: {t_stat:.2f}\")\n",
    "print(f\"P-value: {p_value_weight:.4f}\")\n",
    "\n",
    "# - Interpret the result:\n",
    "# - p-value < 0.05 → reject null hypothesis\n",
    "# - p-value > 0.05 → fail to reject null hypothesis\n",
    "\n",
    "if p_value_weight < 0.05:\n",
    "    print(\"Reject the null hypothesis: The sample mean weight is significantly different from the population mean weight.\")\n",
    "else:\n",
    "    print(\"Fail to reject the null hypothesis: The sample mean weight is not significantly different from the population mean weight.\")"
   ]
  }
 ],
 "metadata": {
  "kernelspec": {
   "display_name": "Python 3",
   "language": "python",
   "name": "python3"
  },
  "language_info": {
   "codemirror_mode": {
    "name": "ipython",
    "version": 3
   },
   "file_extension": ".py",
   "mimetype": "text/x-python",
   "name": "python",
   "nbconvert_exporter": "python",
   "pygments_lexer": "ipython3",
   "version": "3.13.2"
  }
 },
 "nbformat": 4,
 "nbformat_minor": 5
}
